{
 "cells": [
  {
   "cell_type": "code",
   "execution_count": 28,
   "id": "47cb8482",
   "metadata": {
    "scrolled": true
   },
   "outputs": [],
   "source": [
    "import pandas as pd\n",
    "from selenium import webdriver\n",
    "from selenium.webdriver.common.by import By\n",
    "from selenium.webdriver.common.keys import Keys\n",
    "from selenium.webdriver.chrome.service import Service\n",
    "from webdriver_manager.chrome import ChromeDriverManager\n",
    "import time"
   ]
  },
  {
   "cell_type": "markdown",
   "id": "c8e81857",
   "metadata": {},
   "source": [
    "Eğer importlar ve kütüphaneler çalışmıyorsa, gerekli kütüphaneleri indirin. Aşağıda vereceğim satırı yeni bir hücre oluşturup çalıştırın. Daha sonra Jupyter'deki bulunduğunuz kerneli yeniden başlatın.\n",
    "\n",
    "pip install webdriver-manager\n",
    "\n",
    "pip install pymupdf pandas selenium openpyxl\n",
    "\n",
    "tek bir seferde çalıştırmanız yeterli. Tek seferde çalıştırıp başarılı bir şekilde kütüphaneleri kurduysanız hücreyi silip kerneli yeniden başlatıp bu kodu çalıştırabilirsiniz."
   ]
  },
  {
   "cell_type": "code",
   "execution_count": 29,
   "id": "d86252c2",
   "metadata": {},
   "outputs": [],
   "source": [
    "def extract_courses():\n",
    "    print(f\"Yazdırılan excel dersleri:\")\n",
    "    ceng_courses = set()\n",
    "    excel_path = \"dersler.xlsx\"\n",
    "\n",
    "\n",
    "    df = pd.read_excel(excel_path)\n",
    "    \n",
    "    for index, row in df.iterrows():\n",
    "\n",
    "        if 'CEC' in str(row['DERS']):#-----------------------------------------------!\n",
    "            course_code = str(row['DERS']).strip()\n",
    "            if(course_code[3] != \" \"):\n",
    "                course_code = course_code[:3] + \" \" + course_code[3:]\n",
    "            course_code = course_code.lower()\n",
    "            print(course_code)\n",
    "\n",
    "            if row['CENG'] == 'X': #-----------------------------------------------!\n",
    "                ceng_courses.add(course_code)\n",
    "\n",
    "\n",
    "    print(\"Bölümünüz için uygun dersler:\")\n",
    "    print(ceng_courses)\n",
    "    \n",
    "    return ceng_courses if ceng_courses else set()\n"
   ]
  },
  {
   "cell_type": "code",
   "execution_count": 30,
   "id": "a443de74",
   "metadata": {},
   "outputs": [],
   "source": [
    "def get_courses_from_web():\n",
    "    url = \"https://www.cankaya.edu.tr/dersler/\"\n",
    "    service = Service(ChromeDriverManager().install())\n",
    "    driver = webdriver.Chrome(service=service)\n",
    "    driver.get(url)\n",
    "    time.sleep(2)\n",
    "    \n",
    "    try:\n",
    "\n",
    "        dropdown = driver.find_element(By.NAME, \"DersCode\")\n",
    "        \n",
    "        dropdown.send_keys(\"CEC\") #-----------------------------------------------!\n",
    "        \n",
    "        dropdown.send_keys(Keys.RETURN)\n",
    "        time.sleep(3)\n",
    "        \n",
    "        print(f\"Yazdırılan Webdeki dersler\")\n",
    "        courses = set()\n",
    "        table_rows = driver.find_elements(By.XPATH, \"//tr[@role='row']\")\n",
    "        for row in table_rows:\n",
    "            cols = row.find_elements(By.TAG_NAME, \"td\")\n",
    "            \n",
    "            if cols and \"CEC\" in cols[0].text: #-----------------------------------------------!\n",
    "                \n",
    "                course_code = cols[0].text.replace(\"\\u00a0\", \"\").strip().lower()  # Özel boşluk karakterlerini düzelt ve normalleştir\n",
    "                print(course_code)\n",
    "                courses.add(course_code)\n",
    "        \n",
    "        driver.quit()\n",
    "        return courses if courses else set()  # Boş set dönerek None hatasını önle\n",
    "    except Exception as e:\n",
    "        print(f\"Web scraping sırasında hata oluştu: {e}\")\n",
    "        driver.quit()\n",
    "        return set()\n",
    "\n"
   ]
  },
  {
   "cell_type": "markdown",
   "id": "d9465524",
   "metadata": {},
   "source": [
    "Uyarı: Bu blok, gerekli excel dosyasını indirmeniz gerektiğini ve excel dosyası ile bu python kodunun aynı klasör ve/ya dizinde olmasını gerektiğini hatırlatır. Ayrıca, çankaya web sitesindeki HTML yapısı zamanla değişebilir. O yüzden, aramak istediğiniz ögeyi kodu düzenleyip yazmanız gerekir, ya da kod tamamen geçersiz olabilir. \n",
    "\n",
    "Ayrıca, istediğiniz dersin size uygun olup olmadığını görmek için kod içerisinde şu düzenlemeyi yapmanız lazım;\n",
    "\n",
    "Adım 1\n",
    "\n",
    "            if 'CEC' in str(row['DERS']): <-------------- ' ' bunun gibi tırnak arasına istediğiniz dersin Kod ismini yazın.\n",
    "            \n",
    "            (CEC, MAN, ALM, THEA gibi)\n",
    "\n",
    "Adım 2\n",
    "\n",
    "            dropdown.send_keys(\"CEC\")<-------------------------- tırnak arasına istediğiniz dersin Kod ismini yazın.\n",
    "\n",
    "Adım 3\n",
    "\n",
    "    if cols and \"CEC\" in cols[0].text: <-------------------------  tırnak arasına istediğiniz dersin Kod ismini yazın.\n",
    "\n",
    "Eğer bölümünüz de farklı ise;\n",
    "\n",
    "\n",
    "Adım 1\n",
    "\n",
    "      if row['CENG'] == 'X': <-------------------------  tırnak arasına bölümünüzün kodunu yazın. (CENG, SENG, ME gibi)\n",
    "      \n",
    "Kod içerisinde değiştireceğiniz yerler #-----------------------------------------------! şeklinde işaretlenmiştir.\n",
    "                        "
   ]
  },
  {
   "cell_type": "code",
   "execution_count": 31,
   "id": "a43121d3",
   "metadata": {
    "scrolled": true
   },
   "outputs": [
    {
     "name": "stdout",
     "output_type": "stream",
     "text": [
      "Yazdırılan excel dersleri:\n",
      "cec 103\n",
      "cec 104\n",
      "cec 105\n",
      "cec 107\n",
      "cec 108\n",
      "cec 114\n",
      "cec 121\n",
      "cec 205\n",
      "cec 210\n",
      "cec 211\n",
      "cec 212\n",
      "cec 214\n",
      "cec 216\n",
      "cec 217\n",
      "cec 218\n",
      "cec 222\n",
      "cec 224\n",
      "cec 226\n",
      "cec 228\n",
      "cec 301\n",
      "cec 307\n",
      "Bölümünüz için uygun dersler:\n",
      "{'cec 210', 'cec 218', 'cec 103', 'cec 121', 'cec 307', 'cec 205', 'cec 214', 'cec 216', 'cec 107', 'cec 301', 'cec 228', 'cec 222', 'cec 224', 'cec 212', 'cec 217', 'cec 226', 'cec 104', 'cec 105'}\n"
     ]
    }
   ],
   "source": [
    "courses = extract_courses()\n",
    "\n"
   ]
  },
  {
   "cell_type": "code",
   "execution_count": 32,
   "id": "29c37179",
   "metadata": {},
   "outputs": [
    {
     "name": "stdout",
     "output_type": "stream",
     "text": [
      "Yazdırılan Webdeki dersler\n",
      "cec 104\n",
      "cec 108\n",
      "cec 109\n",
      "cec 111\n",
      "cec 112\n",
      "cec 113\n",
      "cec 116\n",
      "cec 203\n",
      "cec 210\n",
      "cec 211\n",
      "cec 212\n",
      "cec 214\n",
      "cec 216\n",
      "cec 217\n",
      "cec 224\n",
      "cec 226\n",
      "cec 234\n",
      "\n",
      " Alabileceğin seçmeli dersleri:\n",
      "cec 210\n",
      "cec 214\n",
      "cec 216\n",
      "cec 226\n",
      "cec 224\n",
      "cec 212\n",
      "cec 217\n",
      "cec 104\n"
     ]
    }
   ],
   "source": [
    "web_courses = get_courses_from_web()\n",
    "\n",
    "\n",
    "if not courses:\n",
    "    print(\"PDF'den hiç ders bulunamadı!\")\n",
    "if not web_courses:\n",
    "    print(\"Webte hiç ders bulunamadı!\")\n",
    "\n",
    "common_courses = courses.intersection(web_courses)\n",
    "\n",
    "print(\"\\n Alabileceğin seçmeli dersleri:\")\n",
    "for course in common_courses:\n",
    "    print(course)"
   ]
  },
  {
   "cell_type": "code",
   "execution_count": null,
   "id": "c5d40e7d",
   "metadata": {},
   "outputs": [],
   "source": []
  }
 ],
 "metadata": {
  "kernelspec": {
   "display_name": "Python 3 (ipykernel)",
   "language": "python",
   "name": "python3"
  },
  "language_info": {
   "codemirror_mode": {
    "name": "ipython",
    "version": 3
   },
   "file_extension": ".py",
   "mimetype": "text/x-python",
   "name": "python",
   "nbconvert_exporter": "python",
   "pygments_lexer": "ipython3",
   "version": "3.11.7"
  }
 },
 "nbformat": 4,
 "nbformat_minor": 5
}
